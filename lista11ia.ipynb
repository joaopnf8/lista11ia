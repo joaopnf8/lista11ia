{
 "cells": [
  {
   "cell_type": "markdown",
   "id": "8696db22",
   "metadata": {},
   "source": [
    "# Pipeline de IA com a Base de Dados do TitanicLista 11 - Inteligência Artificial"
   ]
  },
  {
   "cell_type": "markdown",
   "id": "a7655f8f",
   "metadata": {},
   "source": [
    "## 1. Importação de Bibliotecas e Carregamento da Base"
   ]
  },
  {
   "cell_type": "code",
   "execution_count": null,
   "id": "317a0fb0",
   "metadata": {},
   "outputs": [],
   "source": [
    "import pandas as pdimport numpy as npimport seaborn as snsimport matplotlib.pyplot as pltfrom sklearn.model_selection import train_test_splitfrom sklearn.preprocessing import StandardScaler, LabelEncoderfrom sklearn.ensemble import RandomForestClassifierfrom sklearn.tree import DecisionTreeClassifierfrom sklearn.metrics import classification_report, confusion_matrixfrom sklearn.decomposition import PCAfrom sklearn.cluster import KMeansfrom mlxtend.frequent_patterns import apriori, association_rules# Carregando os dadosdf = pd.read_csv('https://raw.githubusercontent.com/datasciencedojo/datasets/master/titanic.csv')df.head()"
   ]
  },
  {
   "cell_type": "markdown",
   "id": "417f08b2",
   "metadata": {},
   "source": [
    "## 2. Análise Exploratória e Pré-Processamento"
   ]
  },
  {
   "cell_type": "code",
   "execution_count": null,
   "id": "b803f8ca",
   "metadata": {},
   "outputs": [],
   "source": [
    "# Verificando informações geraisdf.info()\n",
    "# Estatísticas descritivas\n",
    "df.describe()\n",
    "# Valores nulos\n",
    "df.isnull().sum()"
   ]
  },
  {
   "cell_type": "code",
   "execution_count": null,
   "id": "a0247a7a",
   "metadata": {},
   "outputs": [],
   "source": [
    "# Preenchendo valores nulosdf['Age'].fillna(df['Age'].median(), inplace=True)\n",
    "df['Embarked'].fillna(df['Embarked'].mode()[0], inplace=True)\n",
    "df.drop(columns=['Cabin'], inplace=True)  # Muitas informações faltantes# Extraindo título dos nomesdf['Title'] = df['Name'].str.extract(' ([A-Za-z]+)\\.', expand=False)df['Title'] = df['Title'].replace(['Mlle', 'Ms'], 'Miss')df['Title'] = df['Title'].replace(['Mme', 'Lady', 'Countess', 'Dona'], 'Mrs')df['Title'] = df['Title'].replace(['Capt', 'Col', 'Don', 'Dr', 'Major', 'Rev', 'Sir', 'Jonkheer'], 'Rare')# Criando variável \"FamilySize\"df['FamilySize'] = df['SibSp'] + df['Parch'] + 1# Codificação de variáveis categóricasdf = pd.get_dummies(df, columns=['Sex', 'Embarked', 'Title'], drop_first=True)# Removendo colunas irrelevantesdf.drop(columns=['PassengerId', 'Name', 'Ticket'], inplace=True)# Separando variáveisX = df.drop('Survived', axis=1)y = df['Survived']# Normalizando variáveis numéricasscaler = StandardScaler()X_scaled = scaler.fit_transform(X)"
   ]
  },
  {
   "cell_type": "markdown",
   "id": "8ca72547",
   "metadata": {},
   "source": [
    "## 3. Modelagem Supervisionada (Classificação)"
   ]
  },
  {
   "cell_type": "code",
   "execution_count": null,
   "id": "f58da5a3",
   "metadata": {},
   "outputs": [],
   "source": [
    "# Dividindo os dadosX_train, X_test, y_train, y_test = train_test_split(X_scaled, y, test_size=0.2, random_state=42)# Random Forestrf = RandomForestClassifier()rf.fit(X_train, y_train)y_pred_rf = rf.predict(X_test)# Decision Treedt = DecisionTreeClassifier()dt.fit(X_train, y_train)y_pred_dt = dt.predict(X_test)# Avaliaçãoprint(\"Random Forest:\\n\", classification_report(y_test, y_pred_rf))print(\"Decision Tree:\\n\", classification_report(y_test, y_pred_dt))"
   ]
  },
  {
   "cell_type": "markdown",
   "id": "53acc80b",
   "metadata": {},
   "source": [
    "## 4. Modelagem Não Supervisionada (Clusterização)"
   ]
  },
  {
   "cell_type": "code",
   "execution_count": null,
   "id": "e71bf0c6",
   "metadata": {},
   "outputs": [],
   "source": [
    "# Aplicando PCA para visualizaçãopca = PCA(n_components=2)X_pca = pca.fit_transform(X_scaled)# KMeanskmeans = KMeans(n_clusters=2, random_state=42)clusters = kmeans.fit_predict(X_scaled)# Visualizandoplt.figure(figsize=(10,6))sns.scatterplot(x=X_pca[:,0], y=X_pca[:,1], hue=clusters, palette='viridis')plt.title(\"Clusters de Passageiros (K-Means + PCA)\")plt.show()"
   ]
  },
  {
   "cell_type": "markdown",
   "id": "a05ac72e",
   "metadata": {},
   "source": [
    "## 5. Regras de Associação"
   ]
  },
  {
   "cell_type": "code",
   "execution_count": null,
   "id": "eae41821",
   "metadata": {},
   "outputs": [],
   "source": [
    "# Preparando dados binarizadosassoc_df = df.copy()assoc_df['Survived'] = assoc_df['Survived'].astype(bool)# Binarizando as variáveisassoc_df_bin = assoc_df.astype(int).astype(bool)# Aplicando Apriorifrequent_itemsets = apriori(assoc_df_bin, min_support=0.1, use_colnames=True)rules = association_rules(frequent_itemsets, metric=\"lift\", min_threshold=1.0)# Exibindo 3 regras com maior liftrules.sort_values(by=\"lift\", ascending=False).head(3)"
   ]
  },
  {
   "cell_type": "markdown",
   "id": "528c5ccf",
   "metadata": {},
   "source": [
    "## 6. Conclusão"
   ]
  },
  {
   "cell_type": "markdown",
   "id": "cd1eced6",
   "metadata": {},
   "source": [
    "Com base na análise, os principais insights foram:- O modelo Random Forest teve melhor desempenho que a árvore de decisão.- A variável 'Title' e o tamanho da família foram relevantes na predição de sobrevivência.- A clusterização revelou agrupamentos distintos com base no perfil dos passageiros.- As regras de associação indicam padrões importantes, como alta sobrevivência de mulheres de 1ª classe.O pipeline apresentado demonstra como aplicar técnicas supervisionadas, não supervisionadas e de associação em dados reais."
   ]
  }
 ],
 "metadata": {},
 "nbformat": 4,
 "nbformat_minor": 5
}
