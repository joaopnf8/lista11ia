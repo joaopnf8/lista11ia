{
 "cells": [
  {
   "cell_type": "markdown",
   "id": "bab122ff",
   "metadata": {},
   "source": [
    "# Pipeline de IA com a Base de Dados do Titanic\n",
    "Lista 11 - Inteligência Artificial"
   ]
  },
  {
   "cell_type": "markdown",
   "id": "1a2de40c",
   "metadata": {},
   "source": [
    "## 1. Importação de Bibliotecas e Carregamento da Base"
   ]
  },
  {
   "cell_type": "code",
   "execution_count": null,
   "id": "65dc21c6",
   "metadata": {},
   "outputs": [],
   "source": [
    "import pandas as pd\n",
    "import numpy as np\n",
    "import seaborn as sns\n",
    "import matplotlib.pyplot as plt\n",
    "\n",
    "from sklearn.model_selection import train_test_split\n",
    "from sklearn.preprocessing import StandardScaler, LabelEncoder\n",
    "from sklearn.ensemble import RandomForestClassifier\n",
    "from sklearn.tree import DecisionTreeClassifier\n",
    "from sklearn.metrics import classification_report, confusion_matrix\n",
    "from sklearn.decomposition import PCA\n",
    "from sklearn.cluster import KMeans\n",
    "from mlxtend.frequent_patterns import apriori, association_rules\n",
    "\n",
    "# Carregando os dados\n",
    "df = pd.read_csv('https://raw.githubusercontent.com/datasciencedojo/datasets/master/titanic.csv')\n",
    "df.head()"
   ]
  },
  {
   "cell_type": "markdown",
   "id": "2e514511",
   "metadata": {},
   "source": [
    "## 2. Análise Exploratória e Pré-Processamento"
   ]
  },
  {
   "cell_type": "code",
   "execution_count": null,
   "id": "7725bd40",
   "metadata": {},
   "outputs": [],
   "source": [
    "# Verificando informações gerais\n",
    "df.info()\n",
    "\n",
    "# Estatísticas descritivas\n",
    "df.describe()\n",
    "\n",
    "# Valores nulos\n",
    "df.isnull().sum()"
   ]
  },
  {
   "cell_type": "code",
   "execution_count": null,
   "id": "c28ac41b",
   "metadata": {},
   "outputs": [],
   "source": [
    "# Preenchendo valores nulos\n",
    "df['Age'].fillna(df['Age'].median(), inplace=True)\n",
    "df['Embarked'].fillna(df['Embarked'].mode()[0], inplace=True)\n",
    "df.drop(columns=['Cabin'], inplace=True)  # Muitas informações faltantes\n",
    "\n",
    "# Extraindo título dos nomes\n",
    "df['Title'] = df['Name'].str.extract(' ([A-Za-z]+)\\.', expand=False)\n",
    "df['Title'] = df['Title'].replace(['Mlle', 'Ms'], 'Miss')\n",
    "df['Title'] = df['Title'].replace(['Mme', 'Lady', 'Countess', 'Dona'], 'Mrs')\n",
    "df['Title'] = df['Title'].replace(['Capt', 'Col', 'Don', 'Dr', 'Major', 'Rev', 'Sir', 'Jonkheer'], 'Rare')\n",
    "\n",
    "# Criando variável \"FamilySize\"\n",
    "df['FamilySize'] = df['SibSp'] + df['Parch'] + 1\n",
    "\n",
    "# Codificação de variáveis categóricas\n",
    "df = pd.get_dummies(df, columns=['Sex', 'Embarked', 'Title'], drop_first=True)\n",
    "\n",
    "# Removendo colunas irrelevantes\n",
    "df.drop(columns=['PassengerId', 'Name', 'Ticket'], inplace=True)\n",
    "\n",
    "# Separando variáveis\n",
    "X = df.drop('Survived', axis=1)\n",
    "y = df['Survived']\n",
    "\n",
    "# Normalizando variáveis numéricas\n",
    "scaler = StandardScaler()\n",
    "X_scaled = scaler.fit_transform(X)"
   ]
  },
  {
   "cell_type": "markdown",
   "id": "adba4a6b",
   "metadata": {},
   "source": [
    "## 3. Modelagem Supervisionada (Classificação)"
   ]
  },
  {
   "cell_type": "code",
   "execution_count": null,
   "id": "9de79986",
   "metadata": {},
   "outputs": [],
   "source": [
    "# Dividindo os dados\n",
    "X_train, X_test, y_train, y_test = train_test_split(X_scaled, y, test_size=0.2, random_state=42)\n",
    "\n",
    "# Random Forest\n",
    "rf = RandomForestClassifier()\n",
    "rf.fit(X_train, y_train)\n",
    "y_pred_rf = rf.predict(X_test)\n",
    "\n",
    "# Decision Tree\n",
    "dt = DecisionTreeClassifier()\n",
    "dt.fit(X_train, y_train)\n",
    "y_pred_dt = dt.predict(X_test)\n",
    "\n",
    "# Avaliação\n",
    "print(\"Random Forest:\\n\", classification_report(y_test, y_pred_rf))\n",
    "print(\"Decision Tree:\\n\", classification_report(y_test, y_pred_dt))"
   ]
  },
  {
   "cell_type": "markdown",
   "id": "fc0c0519",
   "metadata": {},
   "source": [
    "## 4. Modelagem Não Supervisionada (Clusterização)"
   ]
  },
  {
   "cell_type": "code",
   "execution_count": null,
   "id": "5e779c38",
   "metadata": {},
   "outputs": [],
   "source": [
    "# Aplicando PCA para visualização\n",
    "pca = PCA(n_components=2)\n",
    "X_pca = pca.fit_transform(X_scaled)\n",
    "\n",
    "# KMeans\n",
    "kmeans = KMeans(n_clusters=2, random_state=42)\n",
    "clusters = kmeans.fit_predict(X_scaled)\n",
    "\n",
    "# Visualizando\n",
    "plt.figure(figsize=(10,6))\n",
    "sns.scatterplot(x=X_pca[:,0], y=X_pca[:,1], hue=clusters, palette='viridis')\n",
    "plt.title(\"Clusters de Passageiros (K-Means + PCA)\")\n",
    "plt.show()"
   ]
  },
  {
   "cell_type": "markdown",
   "id": "b80e1cd0",
   "metadata": {},
   "source": [
    "## 5. Regras de Associação"
   ]
  },
  {
   "cell_type": "code",
   "execution_count": null,
   "id": "cf69f098",
   "metadata": {},
   "outputs": [],
   "source": [
    "# Preparando dados binarizados\n",
    "assoc_df = df.copy()\n",
    "assoc_df['Survived'] = assoc_df['Survived'].astype(bool)\n",
    "\n",
    "# Binarizando as variáveis\n",
    "assoc_df_bin = assoc_df.astype(int).astype(bool)\n",
    "\n",
    "# Aplicando Apriori\n",
    "frequent_itemsets = apriori(assoc_df_bin, min_support=0.1, use_colnames=True)\n",
    "rules = association_rules(frequent_itemsets, metric=\"lift\", min_threshold=1.0)\n",
    "\n",
    "# Exibindo 3 regras com maior lift\n",
    "rules.sort_values(by=\"lift\", ascending=False).head(3)"
   ]
  },
  {
   "cell_type": "markdown",
   "id": "b238ce7c",
   "metadata": {},
   "source": [
    "## 6. Conclusão"
   ]
  },
  {
   "cell_type": "markdown",
   "id": "7b63af3e",
   "metadata": {},
   "source": [
    "Com base na análise, os principais insights foram:\n",
    "\n",
    "- O modelo Random Forest teve melhor desempenho que a árvore de decisão.\n",
    "- A variável 'Title' e o tamanho da família foram relevantes na predição de sobrevivência.\n",
    "- A clusterização revelou agrupamentos distintos com base no perfil dos passageiros.\n",
    "- As regras de associação indicam padrões importantes, como alta sobrevivência de mulheres de 1ª classe.\n",
    "\n",
    "O pipeline apresentado demonstra como aplicar técnicas supervisionadas, não supervisionadas e de associação em dados reais."
   ]
  }
 ],
 "metadata": {
  "language_info": {
   "name": "python"
  }
 },
 "nbformat": 4,
 "nbformat_minor": 5
}
